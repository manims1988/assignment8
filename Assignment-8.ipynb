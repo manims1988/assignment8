{
 "cells": [
  {
   "cell_type": "markdown",
   "id": "7818f853-28dd-4ce9-80fa-845c901fd151",
   "metadata": {},
   "source": [
    "1. In Python, what is the difference between a built-in function and a user-defined function? Provide an example of each."
   ]
  },
  {
   "cell_type": "code",
   "execution_count": 1,
   "id": "e78b05c9-28b9-422f-8002-6d9db3288631",
   "metadata": {},
   "outputs": [
    {
     "name": "stdout",
     "output_type": "stream",
     "text": [
      "built-in-function\n",
      "#################\n",
      "This function defined within the Python programming language\n",
      "for example lets take len() function\n",
      "length of python is: 6\n",
      "user-defined-function\n",
      "#####################\n",
      "The user will create this function to perform specific task\n",
      "for example lets create simple add function\n",
      "Addition of two number is: 11\n"
     ]
    }
   ],
   "source": [
    "# Answer \n",
    "\n",
    "print('built-in-function')\n",
    "print('#' * 17)\n",
    "print('This function defined within the Python programming language')\n",
    "print('for example lets take len() function')\n",
    "name = 'python'\n",
    "print('length of python is:',len(name))\n",
    "\n",
    "print('user-defined-function')\n",
    "print('#' * 21)\n",
    "print('The user will create this function to perform specific task')\n",
    "print('for example lets create simple add function')\n",
    "\n",
    "def add(a,b):\n",
    "    return a + b\n",
    "print('Addition of two number is:',add(5,6))\n"
   ]
  },
  {
   "cell_type": "markdown",
   "id": "1f6b2b20-8ee5-49c3-b1ce-3cd7ce48a4d4",
   "metadata": {},
   "source": [
    "2. How can you pass arguments to a function in Python? Explain the difference between positional\n",
    "arguments and keyword arguments.\n"
   ]
  },
  {
   "cell_type": "code",
   "execution_count": 2,
   "id": "d321c5b5-28a1-498a-a581-5c79ba037d21",
   "metadata": {},
   "outputs": [
    {
     "name": "stdout",
     "output_type": "stream",
     "text": [
      "There are two ways to pass arguments to a function in python.\n",
      "Positional arguments\n",
      "####################\n",
      "He is good at python and he has got 9 rating in the exam\n",
      "Keyword arguments\n",
      "#################\n",
      "He is good at python and he has got 9 rating in the exam\n"
     ]
    }
   ],
   "source": [
    "# Answer \n",
    "\n",
    "print('There are two ways to pass arguments to a function in python.')\n",
    "print('Positional arguments')\n",
    "print('#' * 20)\n",
    "def position_fun(skill,rate):\n",
    "    return f'He is good at {skill} and he has got {rate} rating in the exam'\n",
    "print(position_fun('python',9))\n",
    "print('Keyword arguments')\n",
    "print('#' * 17)\n",
    "def keyword_fun(skill,rate):\n",
    "        return f'He is good at {skill} and he has got {rate} rating in the exam'\n",
    "print(keyword_fun(rate=9,skill='python'))"
   ]
  },
  {
   "cell_type": "markdown",
   "id": "fcc94789-3f97-4af4-82de-5da36bdeeb11",
   "metadata": {},
   "source": [
    "3. What is the purpose of the return statement in a function? Can a function have multiple return statements? Explain with an example."
   ]
  },
  {
   "cell_type": "code",
   "execution_count": 3,
   "id": "01c816bb-b239-4f64-b723-a887d161bd10",
   "metadata": {},
   "outputs": [
    {
     "name": "stdout",
     "output_type": "stream",
     "text": [
      "The purpose of the return statement is to return final value of the function\n",
      "yes function can have multiple return statements\n",
      "The value is Medium\n"
     ]
    }
   ],
   "source": [
    "# Answer \n",
    "\n",
    "print('The purpose of the return statement is to return final value of the function')\n",
    "print('yes function can have multiple return statements')\n",
    "def check(y):\n",
    "    if y >= 1 and y <= 20:\n",
    "        return 'Tiny'\n",
    "    elif y >= 21 and y <= 40:\n",
    "        return 'Small'\n",
    "    elif y >= 41 and y <= 60:\n",
    "        return 'Medium'\n",
    "    elif y >= 61 and y <= 80:\n",
    "        return 'Big'\n",
    "    else:\n",
    "        return 'Large'\n",
    "\n",
    "print('The value is',check(55))"
   ]
  },
  {
   "cell_type": "markdown",
   "id": "909c305d-af4e-4b61-a3ef-d7ce93cd6fff",
   "metadata": {},
   "source": [
    "4. What are lambda functions in Python? How are they different from regular functions? Provide an example where a lambda function can be useful."
   ]
  },
  {
   "cell_type": "code",
   "execution_count": 4,
   "id": "ddcac408-962d-4071-a3f4-11d32617de49",
   "metadata": {},
   "outputs": [
    {
     "name": "stdout",
     "output_type": "stream",
     "text": [
      "1. lambda functions are anonymous functions and they are called as lambda expressions\n",
      "2. \"def\" keyword is not required instead we have to use \"lambda\" keyword\n",
      "3. simple lambda function\n",
      "Addition using lambda function: 5\n",
      "4. using map lambda function\n",
      "using \"map\" function we can apply changes to all values\n",
      "Addition with map function: [4, 5, 6, 7]\n",
      "5. using filter lambda function\n",
      "using \"filter\" function we can apply changes and output will be returned with matched ones\n",
      "Addition with filter function: [6, 8]\n",
      "6. using reduce lambda function\n",
      "using \"reduce\" function we can apply changes and output will be returned in integer format\n",
      "Addition with reduce function: 42\n"
     ]
    }
   ],
   "source": [
    "# Answer \n",
    "\n",
    "print('1. lambda functions are anonymous functions and they are called as lambda expressions')\n",
    "print('2. \"def\" keyword is not required instead we have to use \"lambda\" keyword')\n",
    "print('3. simple lambda function')\n",
    "value = lambda x: x + 2\n",
    "print('Addition using lambda function:',value(3))\n",
    "print('4. using map lambda function')\n",
    "print('using \"map\" function we can apply changes to all values')\n",
    "list1 = [1,2,3,4]\n",
    "value1 = list(map(lambda x: x + 3, list1))\n",
    "print('Addition with map function:',value1)\n",
    "print('5. using filter lambda function')\n",
    "print('using \"filter\" function we can apply changes and output will be returned with matched ones')\n",
    "list2 = [5,6,7,8]\n",
    "value2 = list(filter(lambda x: x % 2 == 0, list2))\n",
    "print('Addition with filter function:',value2)\n",
    "print('6. using reduce lambda function')\n",
    "print('using \"reduce\" function we can apply changes and output will be returned in integer format')\n",
    "from functools import reduce\n",
    "list3 = [9,10,11,12]\n",
    "value3 = reduce(lambda x, y: x + y, list3)\n",
    "print('Addition with reduce function:',value3)"
   ]
  },
  {
   "cell_type": "markdown",
   "id": "89bf67f5-6da6-425c-9833-bbef9cd42d0a",
   "metadata": {},
   "source": [
    "5. How does the concept of \"scope\" apply to functions in Python? Explain the difference between local scope and global scope."
   ]
  },
  {
   "cell_type": "code",
   "execution_count": 5,
   "id": "56275777-b453-463b-89a3-051f8c696052",
   "metadata": {},
   "outputs": [
    {
     "name": "stdout",
     "output_type": "stream",
     "text": [
      "Local Scope\n",
      "###########\n",
      "Variables defined inside a function are called local scope and are accessible only within that function\n",
      "the value of x is 10\n",
      "Global Scope\n",
      "############\n",
      "Variables defined outside a function are called Global scope and we can access in both inside and outside the function\n",
      "the value of y is 20\n"
     ]
    }
   ],
   "source": [
    "# Answer \n",
    "\n",
    "print('Local Scope')\n",
    "print('#' * 11)\n",
    "print('Variables defined inside a function are called local scope and are accessible only within that function')\n",
    "def inner():\n",
    "    x = 10\n",
    "    return f'the value of x is {x}'\n",
    "print(inner())\n",
    "print('Global Scope')\n",
    "print('#' * 12)\n",
    "print('Variables defined outside a function are called Global scope and we can access in both inside and outside the function')\n",
    "y = 20\n",
    "def inner():\n",
    "    return f'the value of y is {y}'\n",
    "print(inner())"
   ]
  },
  {
   "cell_type": "markdown",
   "id": "208cd545-078c-493f-a412-590c7cfc9069",
   "metadata": {},
   "source": [
    "6. How can you use the \"return\" statement in a Python function to return multiple values?"
   ]
  },
  {
   "cell_type": "code",
   "execution_count": 9,
   "id": "1368605a-af4a-427d-9f83-a50022d37d40",
   "metadata": {},
   "outputs": [
    {
     "name": "stdout",
     "output_type": "stream",
     "text": [
      "example program for returning multiple values\n",
      "('Python', 45, 6.7, (1+2j))\n",
      "{'key1': 'PyThOn', 'key2': 45, 'key3': 6.7, 'key4': (1+2j)}\n",
      "['pytHON', 45, 6.7, (1+2j)]\n"
     ]
    }
   ],
   "source": [
    "# Answer \n",
    "\n",
    "print('example program for returning multiple values')\n",
    "print('we get output format in three different ways')\n",
    "def tuple_format():\n",
    "    x = 'Python'\n",
    "    y = 45\n",
    "    z = 6.7\n",
    "    k = 1+2j\n",
    "    return x,y,z,k\n",
    "\n",
    "def list_format():\n",
    "    x = 'pytHON'\n",
    "    y = 45\n",
    "    z = 6.7\n",
    "    k = 1+2j\n",
    "    return [x,y,z,k]\n",
    "\n",
    "def dict_format():\n",
    "    x = 'PyThOn'\n",
    "    y = 45\n",
    "    z = 6.7\n",
    "    k = 1+2j\n",
    "    return {'key1':x,'key2':y,'key3':z,'key4':k}\n",
    "\n",
    "print(tuple_format())\n",
    "print(dict_format())\n",
    "print(list_format())\n"
   ]
  },
  {
   "cell_type": "markdown",
   "id": "6b3d0816-f2db-4344-b8c3-0ce6b4b2b306",
   "metadata": {},
   "source": [
    "7. What is the difference between the \"pass by value\" and \"pass by reference\" concepts when it comes to function arguments in Python?"
   ]
  },
  {
   "cell_type": "code",
   "execution_count": 10,
   "id": "00d9cda7-83a6-4632-ad9b-b265408eed49",
   "metadata": {},
   "outputs": [
    {
     "name": "stdout",
     "output_type": "stream",
     "text": [
      "1. Pass by value means pass actual value or create copy of actual value\n",
      "20 memory location is 139995026309968\n",
      "10 memory location is 139995026309648\n",
      "inner value is 10\n",
      "outer value is 20\n",
      "2. Pass by reference means pass memory location of the variable or value\n",
      "[1, 2, 3, 4] memory location is 139994979141888\n",
      "[10, 2, 3, 4] memory location is 139994979141888\n",
      "inner value is [10, 2, 3, 4]\n",
      "outer value is [10, 2, 3, 4]\n"
     ]
    }
   ],
   "source": [
    "# Answer \n",
    "\n",
    "print('1. Pass by value means pass actual value or create copy of actual value')\n",
    "def value_pass(x):\n",
    "    print(f'{x} memory location is',id(x))\n",
    "    x = 10\n",
    "    print(f'{x} memory location is',id(x))\n",
    "    return f'inner value is {x}'\n",
    "a = 20\n",
    "print(value_pass(a))\n",
    "print(f'outer value is {a}')\n",
    "\n",
    "print('2. Pass by reference means pass memory location of the variable or value')\n",
    "def ref_pass(x):\n",
    "    print(f'{x} memory location is',id(x))\n",
    "    x[0] = 10\n",
    "    print(f'{x} memory location is',id(x))\n",
    "    return f'inner value is {x}'\n",
    "b = [1,2,3,4]\n",
    "print(ref_pass(b))\n",
    "print(f'outer value is {b}')"
   ]
  },
  {
   "cell_type": "markdown",
   "id": "95b30ddc-9ae4-4251-a35b-ed0f61e9a756",
   "metadata": {},
   "source": [
    "8. Create a function that can intake integer or decimal value and do following operations:\n",
    "a. Logarithmic function (log x)\n",
    "b. Exponential function (exp(x))\n",
    "c. Power function with base 2 (2x)\n",
    "d. Square root\n"
   ]
  },
  {
   "cell_type": "code",
   "execution_count": 11,
   "id": "984adcf3-a5e9-466e-bd6b-689e73376258",
   "metadata": {},
   "outputs": [
    {
     "name": "stdout",
     "output_type": "stream",
     "text": [
      "below server will take the integer input and convert them in required format\n"
     ]
    },
    {
     "name": "stdin",
     "output_type": "stream",
     "text": [
      "enter a integer number 4\n"
     ]
    },
    {
     "name": "stdout",
     "output_type": "stream",
     "text": [
      "Logarithmic values of 4 is 1.3862943611198906\n",
      "Exponential values of 4 is 54.598150033144236\n",
      "Power function with base 2 for 4 is 16.0\n",
      "Square root of 4 is 2.0\n"
     ]
    }
   ],
   "source": [
    "# Answer \n",
    "\n",
    "print('below server will take the integer input and convert them in required format')\n",
    "import math \n",
    "\n",
    "value = int(input('enter a integer number'))\n",
    "print(f'Logarithmic values of {value} is',math.log(value))\n",
    "print(f'Exponential values of {value} is',math.exp(value))\n",
    "print(f'Power function with base 2 for {value} is',math.pow(value,2))\n",
    "print(f'Square root of {value} is',math.sqrt(value))"
   ]
  },
  {
   "cell_type": "markdown",
   "id": "b2f53255-6689-4774-8a5a-7655277aa49d",
   "metadata": {},
   "source": [
    "9. Create a function that takes a full name as an argument and returns first name and last name."
   ]
  },
  {
   "cell_type": "code",
   "execution_count": 12,
   "id": "13439f33-d956-4a29-9c17-b8ac13bc4cd1",
   "metadata": {},
   "outputs": [
    {
     "name": "stdout",
     "output_type": "stream",
     "text": [
      "below program will give the first and last name\n",
      "first name: Guido\n",
      "last name: vanRossum\n"
     ]
    }
   ],
   "source": [
    "# Answer \n",
    "\n",
    "print('below program will give the first and last name')\n",
    "def name(x):\n",
    "    x1 = x.split()\n",
    "    return f'first name: {x1[0]}\\nlast name: {x1[1]}'\n",
    "\n",
    "print(name('Guido vanRossum'))"
   ]
  }
 ],
 "metadata": {
  "kernelspec": {
   "display_name": "Python 3 (ipykernel)",
   "language": "python",
   "name": "python3"
  },
  "language_info": {
   "codemirror_mode": {
    "name": "ipython",
    "version": 3
   },
   "file_extension": ".py",
   "mimetype": "text/x-python",
   "name": "python",
   "nbconvert_exporter": "python",
   "pygments_lexer": "ipython3",
   "version": "3.10.6"
  }
 },
 "nbformat": 4,
 "nbformat_minor": 5
}
